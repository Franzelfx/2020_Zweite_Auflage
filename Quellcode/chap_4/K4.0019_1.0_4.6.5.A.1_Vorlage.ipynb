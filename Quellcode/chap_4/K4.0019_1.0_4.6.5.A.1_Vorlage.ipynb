{
 "cells": [
  {
   "cell_type": "code",
   "execution_count": null,
   "metadata": {},
   "outputs": [],
   "source": [
    "#\n",
    "# Führe diese Zelle aus, um die benötigten Pakete zu installieren.\n",
    "# Falls du die Pakete bereits installiert hast, kannst du diese Zelle überspringen.\n",
    "#\n",
    "%pip install numpy\n",
    "%pip install matplotlib\n",
    "%pip install scikit-learn"
   ]
  },
  {
   "cell_type": "code",
   "execution_count": null,
   "metadata": {},
   "outputs": [],
   "source": [
    "import random\n",
    "import numpy as np\n",
    "from sklearn import datasets\n",
    "from sklearn.preprocessing import MinMaxScaler, StandardScaler"
   ]
  },
  {
   "cell_type": "code",
   "execution_count": null,
   "metadata": {},
   "outputs": [],
   "source": [
    "# Generate random hash\n",
    "hash = random.getrandbits(16)\n",
    "print(\"Hash: \", hash)"
   ]
  },
  {
   "cell_type": "code",
   "execution_count": null,
   "metadata": {},
   "outputs": [],
   "source": [
    "data = datasets.load_iris()\n",
    "X = data.data\n",
    "y = data.target"
   ]
  },
  {
   "attachments": {},
   "cell_type": "markdown",
   "metadata": {},
   "source": [
    "Der Einfachheit halber geben wir nur die 10 ersten Eintraegen raus"
   ]
  },
  {
   "cell_type": "code",
   "execution_count": null,
   "metadata": {},
   "outputs": [],
   "source": [
    "X_orig = X[0:10]\n",
    "print(X_orig)"
   ]
  },
  {
   "attachments": {},
   "cell_type": "markdown",
   "metadata": {},
   "source": [
    "### Version 1\n",
    "Der Datensatz wird mit Hilfe der Min-Max-Normalisierung normalisiert. Die Werte werden auf den Bereich [0,1] abgebildet.\n",
    "\n",
    "Die Gleichung lautet:\n",
    "$$x_{new} = \\frac{x - x_{min}}{x_{max} - x_{min}}$$"
   ]
  },
  {
   "cell_type": "code",
   "execution_count": null,
   "metadata": {},
   "outputs": [],
   "source": [
    "# Version 1\n",
    "# Die Werte werden auf ein Interval [0 ... 1] normalisiert ...\n",
    "scaler = MinMaxScaler()\n",
    "X_scaled = scaler.fit_transform(X_orig)"
   ]
  },
  {
   "attachments": {},
   "cell_type": "markdown",
   "metadata": {},
   "source": [
    "### Version 2\n",
    "Der Datensatz wird mit Hilfe der Standardisierung normalisiert.\n",
    "\n",
    "Die Gleichung lautet:\n",
    "$$x_{new} = \\frac{x - \\mu}{\\sigma}$$"
   ]
  },
  {
   "cell_type": "code",
   "execution_count": null,
   "metadata": {},
   "outputs": [],
   "source": [
    "# Version 2\n",
    "scaler = StandardScaler()\n",
    "X_scaled = scaler.fit_transform(X_orig)"
   ]
  },
  {
   "cell_type": "code",
   "execution_count": null,
   "metadata": {},
   "outputs": [],
   "source": [
    "# ... und mit genau 3 Dezimalstellen ausgegeben\n",
    "np.set_printoptions(precision=3,floatmode=\"fixed\")\n",
    "print(X_scaled)"
   ]
  }
 ],
 "metadata": {
  "jupytext": {
   "cell_metadata_filter": "-all",
   "main_language": "python",
   "notebook_metadata_filter": "-all"
  },
  "kernelspec": {
   "display_name": "Python 3",
   "language": "python",
   "name": "python3"
  },
  "language_info": {
   "codemirror_mode": {
    "name": "ipython",
    "version": 3
   },
   "file_extension": ".py",
   "mimetype": "text/x-python",
   "name": "python",
   "nbconvert_exporter": "python",
   "pygments_lexer": "ipython3",
   "version": "3.10.6"
  }
 },
 "nbformat": 4,
 "nbformat_minor": 2
}
