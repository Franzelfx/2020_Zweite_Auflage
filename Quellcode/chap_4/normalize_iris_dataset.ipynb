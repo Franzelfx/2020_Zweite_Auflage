{
 "cells": [
  {
   "cell_type": "code",
   "execution_count": 7,
   "metadata": {},
   "outputs": [],
   "source": [
    "#\n",
    "# Beispiel einer Normalisierung von Daten \n",
    "# \n",
    "%pip install numpy\n",
    "%pip install matplotlib\n",
    "\n",
    "import numpy as np\n",
    "import matplotlib.pyplot as plt"
   ]
  },
  {
   "cell_type": "code",
   "execution_count": 8,
   "metadata": {},
   "outputs": [],
   "source": [
    "from sklearn import datasets\n",
    "from sklearn.model_selection import train_test_split\n",
    "from sklearn.preprocessing import MinMaxScaler, StandardScaler"
   ]
  },
  {
   "cell_type": "code",
   "execution_count": 9,
   "metadata": {},
   "outputs": [],
   "source": [
    "data = datasets.load_iris()\n",
    "X = data.data\n",
    "y = data.target"
   ]
  },
  {
   "attachments": {},
   "cell_type": "markdown",
   "metadata": {},
   "source": [
    "Der Einfachheit halber geben wir nur die 10 ersten Eintraegen raus"
   ]
  },
  {
   "cell_type": "code",
   "execution_count": 10,
   "metadata": {},
   "outputs": [
    {
     "name": "stdout",
     "output_type": "stream",
     "text": [
      "[[5.100 3.500 1.400 0.200]\n",
      " [4.900 3.000 1.400 0.200]\n",
      " [4.700 3.200 1.300 0.200]\n",
      " [4.600 3.100 1.500 0.200]\n",
      " [5.000 3.600 1.400 0.200]\n",
      " [5.400 3.900 1.700 0.400]\n",
      " [4.600 3.400 1.400 0.300]\n",
      " [5.000 3.400 1.500 0.200]\n",
      " [4.400 2.900 1.400 0.200]\n",
      " [4.900 3.100 1.500 0.100]]\n"
     ]
    }
   ],
   "source": [
    "X_orig = X[0:10]\n",
    "print(X_orig)"
   ]
  },
  {
   "attachments": {},
   "cell_type": "markdown",
   "metadata": {},
   "source": [
    "### Version 1\n",
    "Der Datensatz wird mit Hilfe der Min-Max-Normalisierung normalisiert. Die Werte werden auf den Bereich [0,1] abgebildet.\n",
    "\n",
    "Die Gleichung lautet:\n",
    "$$x_{new} = \\frac{x - x_{min}}{x_{max} - x_{min}}$$"
   ]
  },
  {
   "cell_type": "code",
   "execution_count": 11,
   "metadata": {},
   "outputs": [],
   "source": [
    "# Version 1\n",
    "# Die Werte werden auf ein Interval [0 ... 1] normalisiert ...\n",
    "scaler = StandardScaler()\n",
    "X_scaled = scaler.fit_transform(X_orig)"
   ]
  },
  {
   "attachments": {},
   "cell_type": "markdown",
   "metadata": {},
   "source": [
    "### Version 2\n",
    "Der Datensatz wird mit Hilfe der Standardisierung normalisiert.\n",
    "\n",
    "Die Gleichung lautet:\n",
    "$$x_{new} = \\frac{x - \\mu}{\\sigma}$$"
   ]
  },
  {
   "cell_type": "code",
   "execution_count": null,
   "metadata": {},
   "outputs": [],
   "source": [
    "# Version 2"
   ]
  },
  {
   "cell_type": "code",
   "execution_count": 12,
   "metadata": {},
   "outputs": [
    {
     "name": "stdout",
     "output_type": "stream",
     "text": [
      "[[ 0.868  0.652 -0.488 -0.267]\n",
      " [ 0.145 -1.064 -0.488 -0.267]\n",
      " [-0.579 -0.378 -1.464 -0.267]\n",
      " [-0.941 -0.721  0.488 -0.267]\n",
      " [ 0.507  0.995 -0.488 -0.267]\n",
      " [ 1.954  2.025  2.440  2.405]\n",
      " [-0.941  0.309 -0.488  1.069]\n",
      " [ 0.507  0.309  0.488 -0.267]\n",
      " [-1.664 -1.407 -0.488 -0.267]\n",
      " [ 0.145 -0.721  0.488 -1.604]]\n"
     ]
    }
   ],
   "source": [
    "# ... und mit genau 3 Dezimalstellen ausgegeben\n",
    "np.set_printoptions(precision=3,floatmode=\"fixed\")\n",
    "print(X_scaled)"
   ]
  }
 ],
 "metadata": {
  "jupytext": {
   "cell_metadata_filter": "-all",
   "main_language": "python",
   "notebook_metadata_filter": "-all"
  },
  "kernelspec": {
   "display_name": "Python 3",
   "language": "python",
   "name": "python3"
  },
  "language_info": {
   "codemirror_mode": {
    "name": "ipython",
    "version": 3
   },
   "file_extension": ".py",
   "mimetype": "text/x-python",
   "name": "python",
   "nbconvert_exporter": "python",
   "pygments_lexer": "ipython3",
   "version": "3.11.4"
  }
 },
 "nbformat": 4,
 "nbformat_minor": 2
}
