{
 "cells": [
  {
   "cell_type": "code",
   "execution_count": 1,
   "metadata": {},
   "outputs": [],
   "source": [
    "import random\n",
    "import numpy as np\n",
    "from sklearn import datasets\n",
    "from sklearn.preprocessing import MinMaxScaler, StandardScaler"
   ]
  },
  {
   "cell_type": "code",
   "execution_count": 2,
   "metadata": {},
   "outputs": [
    {
     "name": "stdout",
     "output_type": "stream",
     "text": [
      "Hash:  11316\n"
     ]
    }
   ],
   "source": [
    "# Generate random hash\n",
    "hash = random.getrandbits(16)\n",
    "print(\"Hash: \", hash)"
   ]
  },
  {
   "cell_type": "code",
   "execution_count": 3,
   "metadata": {},
   "outputs": [],
   "source": [
    "data = datasets.load_iris()\n",
    "X = data.data\n",
    "y = data.target"
   ]
  },
  {
   "attachments": {},
   "cell_type": "markdown",
   "metadata": {},
   "source": [
    "Der Einfachheit halber geben wir nur die 10 ersten Eintraegen raus"
   ]
  },
  {
   "cell_type": "code",
   "execution_count": 4,
   "metadata": {},
   "outputs": [
    {
     "name": "stdout",
     "output_type": "stream",
     "text": [
      "[[5.1 3.5 1.4 0.2]\n",
      " [4.9 3.  1.4 0.2]\n",
      " [4.7 3.2 1.3 0.2]\n",
      " [4.6 3.1 1.5 0.2]\n",
      " [5.  3.6 1.4 0.2]\n",
      " [5.4 3.9 1.7 0.4]\n",
      " [4.6 3.4 1.4 0.3]\n",
      " [5.  3.4 1.5 0.2]\n",
      " [4.4 2.9 1.4 0.2]\n",
      " [4.9 3.1 1.5 0.1]]\n"
     ]
    }
   ],
   "source": [
    "X_orig = X[0:10]\n",
    "print(X_orig)"
   ]
  },
  {
   "attachments": {},
   "cell_type": "markdown",
   "metadata": {},
   "source": [
    "### Version 1\n",
    "Der Datensatz wird mit Hilfe der Min-Max-Normalisierung normalisiert. Die Werte werden auf den Bereich [0,1] abgebildet.\n",
    "\n",
    "Die Gleichung lautet:\n",
    "$$x_{new} = \\frac{x - x_{min}}{x_{max} - x_{min}}$$"
   ]
  },
  {
   "cell_type": "code",
   "execution_count": 5,
   "metadata": {},
   "outputs": [],
   "source": [
    "# Version 1\n",
    "# Die Werte werden auf ein Interval [0 ... 1] normalisiert ...\n",
    "scaler = MinMaxScaler()\n",
    "X_scaled = scaler.fit_transform(X_orig)"
   ]
  },
  {
   "attachments": {},
   "cell_type": "markdown",
   "metadata": {},
   "source": [
    "### Version 2\n",
    "Der Datensatz wird mit Hilfe der Standardisierung normalisiert.\n",
    "\n",
    "Die Gleichung lautet:\n",
    "$$x_{new} = \\frac{x - \\mu}{\\sigma}$$"
   ]
  },
  {
   "cell_type": "code",
   "execution_count": 6,
   "metadata": {},
   "outputs": [],
   "source": [
    "# Version 2"
   ]
  },
  {
   "cell_type": "code",
   "execution_count": 7,
   "metadata": {},
   "outputs": [
    {
     "name": "stdout",
     "output_type": "stream",
     "text": [
      "[[0.700 0.600 0.250 0.333]\n",
      " [0.500 0.100 0.250 0.333]\n",
      " [0.300 0.300 0.000 0.333]\n",
      " [0.200 0.200 0.500 0.333]\n",
      " [0.600 0.700 0.250 0.333]\n",
      " [1.000 1.000 1.000 1.000]\n",
      " [0.200 0.500 0.250 0.667]\n",
      " [0.600 0.500 0.500 0.333]\n",
      " [0.000 0.000 0.250 0.333]\n",
      " [0.500 0.200 0.500 0.000]]\n"
     ]
    }
   ],
   "source": [
    "# ... und mit genau 3 Dezimalstellen ausgegeben\n",
    "np.set_printoptions(precision=3,floatmode=\"fixed\")\n",
    "print(X_scaled)"
   ]
  }
 ],
 "metadata": {
  "jupytext": {
   "cell_metadata_filter": "-all",
   "main_language": "python",
   "notebook_metadata_filter": "-all"
  },
  "kernelspec": {
   "display_name": "Python 3",
   "language": "python",
   "name": "python3"
  },
  "language_info": {
   "codemirror_mode": {
    "name": "ipython",
    "version": 3
   },
   "file_extension": ".py",
   "mimetype": "text/x-python",
   "name": "python",
   "nbconvert_exporter": "python",
   "pygments_lexer": "ipython3",
   "version": "3.10.6"
  }
 },
 "nbformat": 4,
 "nbformat_minor": 2
}
