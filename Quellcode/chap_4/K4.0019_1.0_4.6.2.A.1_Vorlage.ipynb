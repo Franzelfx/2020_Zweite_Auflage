{
 "cells": [
  {
   "cell_type": "code",
   "execution_count": null,
   "metadata": {},
   "outputs": [],
   "source": [
    "#\n",
    "# Führe diese Zelle aus, um die benötigten Pakete zu installieren.\n",
    "# Falls du die Pakete bereits installiert hast, kannst du diese Zelle überspringen.\n",
    "#\n",
    "%pip install wget\n",
    "%pip install numpy\n",
    "%pip install tabulate\n",
    "%pip install matplotlib\n",
    "%pip install scikit-learn"
   ]
  },
  {
   "cell_type": "code",
   "execution_count": null,
   "metadata": {},
   "outputs": [],
   "source": [
    "#\n",
    "# Beispiele für die Benutzung von NumPy\n",
    "#\n",
    "import wget\n",
    "import random\n",
    "import matplotlib\n",
    "import numpy as np\n",
    "import matplotlib.pyplot as plt\n",
    "from tabulate import tabulate"
   ]
  },
  {
   "cell_type": "code",
   "execution_count": null,
   "metadata": {},
   "outputs": [],
   "source": [
    "# Generate random hash\n",
    "hash = random.getrandbits(16)\n",
    "print(\"Hash: \", hash)"
   ]
  },
  {
   "attachments": {},
   "cell_type": "markdown",
   "metadata": {},
   "source": [
    "Hier wird ein Datenset von Autos herunterladen\n",
    "https://archive.ics.uci.edu/ml/machine-learning-databases/autos/imports-85.data"
   ]
  },
  {
   "cell_type": "code",
   "execution_count": null,
   "metadata": {},
   "outputs": [],
   "source": [
    "DATA_URL = \"https://archive.ics.uci.edu/ml/machine-learning-databases/autos/imports-85.data\""
   ]
  },
  {
   "cell_type": "code",
   "execution_count": null,
   "metadata": {},
   "outputs": [],
   "source": [
    "wget.download(DATA_URL,\"./output/auto.csv\")\n",
    "# usecols wird benutzt, um nur bestimmte Spalten zu laden\n",
    "# make: 2\n",
    "# fuel: 3\n",
    "# num-of-doors: 5\n",
    "# price: 25"
   ]
  },
  {
   "cell_type": "code",
   "execution_count": null,
   "metadata": {},
   "outputs": [],
   "source": [
    "dt = [(\"brand\",\"S8\"),(\"fuel\",\"S10\"),(\"doors\",\"S10\"),(\"price\",float)]\n",
    "all_autos= np.loadtxt(\"auto.csv\",delimiter=\",\",dtype=str,usecols=[2,3,5,25])"
   ]
  },
  {
   "cell_type": "code",
   "execution_count": null,
   "metadata": {},
   "outputs": [],
   "source": [
    "# Alle Preise in einer Spalte\n",
    "all_autos_prices = np.array(all_autos[:,3])"
   ]
  },
  {
   "cell_type": "code",
   "execution_count": null,
   "metadata": {
    "lines_to_next_cell": 2
   },
   "outputs": [],
   "source": [
    "# Manche Zeilen besitzen einen ?. Wir ersetzen diese bevor wir diese Spalte in float umkonvertieren\n",
    "all_autos_prices = np.core.defchararray.replace(np.array(all_autos[:,3]),'?','0').astype(\"float\")\n",
    "all_autos[:,3] = np.array(all_autos_prices,dtype=\"float32\")"
   ]
  },
  {
   "cell_type": "code",
   "execution_count": null,
   "metadata": {},
   "outputs": [],
   "source": [
    "# Die Zeilen deren Preis gleich 0 ist, werden aus dem Datenset rausgenommen\n",
    "no_prices = np.where(all_autos_prices == 0.0)\n",
    "all_autos = np.delete(all_autos,no_prices,axis=0)\n",
    "all_autos_prices = np.delete(all_autos_prices,no_prices,axis=0)"
   ]
  },
  {
   "cell_type": "code",
   "execution_count": null,
   "metadata": {},
   "outputs": [],
   "source": [
    "all_autos = np.array(all_autos.reshape(len(all_autos),4))"
   ]
  },
  {
   "cell_type": "code",
   "execution_count": null,
   "metadata": {},
   "outputs": [],
   "source": [
    "print(\"Durschnittspreis ${} \".format(np.mean(all_autos_prices))) # Das sind nur strings\n",
    "print(\"Maximum ${} {}\".format(np.max(all_autos_prices), all_autos[np.argmax(all_autos_prices)]))\n",
    "print(\"Minimum ${} {}\".format(np.min(all_autos_prices), all_autos[np.argmin(all_autos_prices)]))"
   ]
  },
  {
   "cell_type": "code",
   "execution_count": null,
   "metadata": {},
   "outputs": [],
   "source": [
    "print (\"Umkonvertierung in Euro\")\n",
    "dollar_euro_conversion_rate = 0.88"
   ]
  },
  {
   "cell_type": "code",
   "execution_count": null,
   "metadata": {},
   "outputs": [],
   "source": [
    "# Wir selektieren die Spalte mit dem index 3 und konvertieren den Preis nach Euros\n",
    "all_autos[:,3] = np.multiply(np.array(all_autos[:,3],dtype=\"float\"),dollar_euro_conversion_rate)"
   ]
  },
  {
   "cell_type": "code",
   "execution_count": null,
   "metadata": {},
   "outputs": [],
   "source": [
    "print (tabulate(all_autos,headers=[\"Marke\",\"Treibstoff\",\"Anzahl Türe\",\"Preis in Euro\"]))"
   ]
  },
  {
   "cell_type": "code",
   "execution_count": null,
   "metadata": {},
   "outputs": [],
   "source": [
    "# Anzahl der VW im Datenset\n",
    "nb_vw = len(np.where(all_autos[:,0] == \"volkswagen\")[0])\n",
    "print(\"Anzahl von VW Autos: {}\".format(nb_vw))"
   ]
  },
  {
   "cell_type": "code",
   "execution_count": null,
   "metadata": {},
   "outputs": [],
   "source": [
    "# Anzahl der Autos per Marke\n",
    "brands = np.unique(all_autos[:,0])\n",
    "print(\"Anzahl der Autos per Marke\")\n",
    "for brand in brands:\n",
    "    nb_cars = len(np.where(all_autos[:,0] == brand)[0])\n",
    "    print(\"{}: {}\".format(brand,nb_cars))"
   ]
  },
  {
   "attachments": {},
   "cell_type": "markdown",
   "metadata": {},
   "source": [
    "Optional: Sortierung nach Anzahl der Fahrzeuge pro Marke \n",
    "stats = stats[stats[:,1].astype(int).argsort()]"
   ]
  },
  {
   "cell_type": "code",
   "execution_count": null,
   "metadata": {},
   "outputs": [],
   "source": [
    "# Ausgabe mit Matplotlib\n",
    "plt.xticks(rotation=90)\n",
    "plt.bar(brands,[len(np.where(all_autos[:,0] == brand)[0]) for brand in brands])\n",
    "plt.title(\"Anzahl der Fahrzeuge\")\n",
    "plt.xlabel(\"Marke\")\n",
    "plt.ylabel(\"Anzahl\")\n",
    "plt.show()"
   ]
  }
 ],
 "metadata": {
  "jupytext": {
   "cell_metadata_filter": "-all",
   "main_language": "python",
   "notebook_metadata_filter": "-all"
  },
  "kernelspec": {
   "display_name": "venv",
   "language": "python",
   "name": "python3"
  },
  "language_info": {
   "codemirror_mode": {
    "name": "ipython",
    "version": 3
   },
   "file_extension": ".py",
   "mimetype": "text/x-python",
   "name": "python",
   "nbconvert_exporter": "python",
   "pygments_lexer": "ipython3",
   "version": "3.10.6"
  }
 },
 "nbformat": 4,
 "nbformat_minor": 2
}
