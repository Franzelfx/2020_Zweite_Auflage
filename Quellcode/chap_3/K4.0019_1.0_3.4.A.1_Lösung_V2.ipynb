{
 "cells": [
  {
   "attachments": {},
   "cell_type": "markdown",
   "metadata": {},
   "source": [
    "# 3.4 Ein Einfaches Neuronales Netz"
   ]
  },
  {
   "cell_type": "code",
   "execution_count": 1,
   "metadata": {},
   "outputs": [],
   "source": [
    "import os.path\n",
    "import numpy as np\n",
    "import pandas as pd\n",
    "from sklearn.model_selection import train_test_split\n",
    "from sklearn.neural_network import MLPClassifier\n",
    "from sklearn.metrics import classification_report, confusion_matrix  \n",
    "import matplotlib.pyplot as plt"
   ]
  },
  {
   "cell_type": "code",
   "execution_count": 2,
   "metadata": {},
   "outputs": [],
   "source": [
    "# Lade den Iris-Datenset\n",
    "data_train = pd.read_csv('./input/iris.csv')"
   ]
  },
  {
   "cell_type": "code",
   "execution_count": 3,
   "metadata": {},
   "outputs": [],
   "source": [
    "# Die 3 zu erkennenden Klassifikationsklassen werden zu numerischen Werten 0, 1 bzw. 2 umgewandelt.\n",
    "data_train.loc[data_train['species']=='Iris-setosa', 'species']=0\n",
    "data_train.loc[data_train['species']=='Iris-versicolor', 'species']=1\n",
    "data_train.loc[data_train['species']=='Iris-virginica', 'species']=2\n",
    "data_train = data_train.apply(pd.to_numeric)"
   ]
  },
  {
   "cell_type": "code",
   "execution_count": 4,
   "metadata": {},
   "outputs": [],
   "source": [
    "# Der eingelesene Datenset wird als Matrix dargestellt\n",
    "data_train_array = data_train.values # oder data_train.to_numpy()"
   ]
  },
  {
   "cell_type": "code",
   "execution_count": 5,
   "metadata": {},
   "outputs": [],
   "source": [
    "# Zur Sicherstellung der Reproduzierbarkeit der Ergebnisse setzen wir random.seed auf eine festen Wert, z.B. 42\n",
    "np.random.seed(17)"
   ]
  },
  {
   "attachments": {},
   "cell_type": "markdown",
   "metadata": {},
   "source": [
    "Das Datenset wird in zwei separate Kategorie gespaltet: Testdaten und Trainingsdaten. \n",
    "\n",
    "80% der Daten werden zum Trainieren und 20% zum Testen des Modells verwendet. \n",
    "\n",
    "Da es sich bei der Eingabe um einen Vektor handelt, werden wird den Großbuchstaben X benutzen.\n",
    "\n",
    "Für die Ausgabe hingegen handelt es sich um ein einzelner Werte, \n",
    "daher die Bezeichung mit dem Kleinbuchstaben y."
   ]
  },
  {
   "cell_type": "code",
   "execution_count": 6,
   "metadata": {},
   "outputs": [],
   "source": [
    "X_train, X_test, y_train, y_test = train_test_split(data_train_array[:,:4],\n",
    "                                                    data_train_array[:,4],\n",
    "                                                    test_size=0.2)"
   ]
  },
  {
   "attachments": {},
   "cell_type": "markdown",
   "metadata": {},
   "source": [
    "### Version 1\n",
    "Ein neuronales Netz zur Klassifikation (MultiLayerPerceptron) wird mit folgenden Eigenschaften gebildet:\n",
    "- einem Input-Layer mit 4 Neuronen, die die Merkmale der Iris-Planze repräsentieren\n",
    "- einem Hidden-Layer mit 10 Neuronen\n",
    "- einem Output-Layer mit 3 Neuronen, die die zu erkennenden Klassen repräsentieren\n",
    "\n",
    "Dabei wird als Aktivierungsfunktion relu und als Optimierer adam verwenden.\n",
    "\n",
    "<img src=\"img/network_01.png\" height=\"400\"/>"
   ]
  },
  {
   "cell_type": "code",
   "execution_count": 7,
   "metadata": {},
   "outputs": [],
   "source": [
    "#mlp = MLPClassifier(hidden_layer_sizes=(10,),activation='relu', solver='adam', max_iter=350, batch_size=10, verbose=True)"
   ]
  },
  {
   "attachments": {},
   "cell_type": "markdown",
   "metadata": {},
   "source": [
    "### VERSION 2\n",
    "Erstelle eine zweite Version des neuronalen Netzes mit folgenden Eigenschaften:\n",
    "- einem Input-Layer mit 4 Neuronen, die die Merkmale der Iris-Planze repräsentieren\n",
    "- zwei Hidden-Layer mit jeweils 3 und 5 Neuronen\n",
    "- einem Output-Layer mit 3 Neuronen, die die zu erkennenden Klassen repräsentieren\n",
    "\n",
    "Füge die Zweite Version direkt unter der Ersten ein. Und führe die neu Zelle und alle folgenden aus.\n",
    "\n",
    "<img src=\"img/network_02.png\" height=\"400\"/>"
   ]
  },
  {
   "cell_type": "code",
   "execution_count": 8,
   "metadata": {},
   "outputs": [],
   "source": [
    "# Zweite Version:\n",
    "mlp = MLPClassifier(hidden_layer_sizes=(5,3),activation='relu', solver='adam', max_iter=350, batch_size=10, verbose=True)"
   ]
  },
  {
   "cell_type": "code",
   "execution_count": 9,
   "metadata": {},
   "outputs": [
    {
     "name": "stdout",
     "output_type": "stream",
     "text": [
      "Iteration 1, loss = 2.95771780\n",
      "Iteration 2, loss = 2.70584492\n",
      "Iteration 3, loss = 2.48650939\n",
      "Iteration 4, loss = 2.31369613\n",
      "Iteration 5, loss = 2.18106097\n",
      "Iteration 6, loss = 2.05814781\n",
      "Iteration 7, loss = 1.93317432\n",
      "Iteration 8, loss = 1.82325417\n",
      "Iteration 9, loss = 1.71835883\n",
      "Iteration 10, loss = 1.62721635\n",
      "Iteration 11, loss = 1.53848282\n",
      "Iteration 12, loss = 1.46125707\n",
      "Iteration 13, loss = 1.38649298\n",
      "Iteration 14, loss = 1.32253906\n",
      "Iteration 15, loss = 1.25912442\n",
      "Iteration 16, loss = 1.20788310\n",
      "Iteration 17, loss = 1.15504144\n",
      "Iteration 18, loss = 1.11168752\n",
      "Iteration 19, loss = 1.06842053\n",
      "Iteration 20, loss = 1.02917010\n",
      "Iteration 21, loss = 0.99582903\n",
      "Iteration 22, loss = 0.96694460\n",
      "Iteration 23, loss = 0.94906935\n",
      "Iteration 24, loss = 0.92492069\n",
      "Iteration 25, loss = 0.90748936\n",
      "Iteration 26, loss = 0.89455243\n",
      "Iteration 27, loss = 0.88055446\n",
      "Iteration 28, loss = 0.86742288\n",
      "Iteration 29, loss = 0.85570512\n",
      "Iteration 30, loss = 0.84437839\n",
      "Iteration 31, loss = 0.83214619\n",
      "Iteration 32, loss = 0.82123535\n",
      "Iteration 33, loss = 0.80860302\n",
      "Iteration 34, loss = 0.79786898\n",
      "Iteration 35, loss = 0.78684576\n",
      "Iteration 36, loss = 0.77468846\n",
      "Iteration 37, loss = 0.76480058\n",
      "Iteration 38, loss = 0.75404153\n",
      "Iteration 39, loss = 0.74439408\n",
      "Iteration 40, loss = 0.73172848\n",
      "Iteration 41, loss = 0.72182880\n",
      "Iteration 42, loss = 0.71179466\n",
      "Iteration 43, loss = 0.70226180\n",
      "Iteration 44, loss = 0.69175948\n",
      "Iteration 45, loss = 0.68232040\n",
      "Iteration 46, loss = 0.67270894\n",
      "Iteration 47, loss = 0.66488782\n",
      "Iteration 48, loss = 0.65421319\n",
      "Iteration 49, loss = 0.64409482\n",
      "Iteration 50, loss = 0.63400753\n",
      "Iteration 51, loss = 0.62497036\n",
      "Iteration 52, loss = 0.61545117\n",
      "Iteration 53, loss = 0.60652245\n",
      "Iteration 54, loss = 0.59778972\n"
     ]
    },
    {
     "name": "stdout",
     "output_type": "stream",
     "text": [
      "Iteration 55, loss = 0.58821759\n",
      "Iteration 56, loss = 0.57872913\n",
      "Iteration 57, loss = 0.57002074\n",
      "Iteration 58, loss = 0.56051583\n",
      "Iteration 59, loss = 0.55162714\n",
      "Iteration 60, loss = 0.54308930\n",
      "Iteration 61, loss = 0.53629857\n",
      "Iteration 62, loss = 0.52528776\n",
      "Iteration 63, loss = 0.51601163\n",
      "Iteration 64, loss = 0.50786386\n",
      "Iteration 65, loss = 0.49975782\n",
      "Iteration 66, loss = 0.49126349\n",
      "Iteration 67, loss = 0.48256083\n",
      "Iteration 68, loss = 0.47444986\n",
      "Iteration 69, loss = 0.46769598\n",
      "Iteration 70, loss = 0.45873114\n",
      "Iteration 71, loss = 0.45137035\n",
      "Iteration 72, loss = 0.44418790\n",
      "Iteration 73, loss = 0.43645836\n",
      "Iteration 74, loss = 0.42976474\n",
      "Iteration 75, loss = 0.42275282\n",
      "Iteration 76, loss = 0.41565795\n",
      "Iteration 77, loss = 0.40914752\n",
      "Iteration 78, loss = 0.40275652\n",
      "Iteration 79, loss = 0.39636033\n",
      "Iteration 80, loss = 0.38959853\n",
      "Iteration 81, loss = 0.38358397\n",
      "Iteration 82, loss = 0.37786335\n",
      "Iteration 83, loss = 0.37241175\n",
      "Iteration 84, loss = 0.36609235\n",
      "Iteration 85, loss = 0.36103804\n",
      "Iteration 86, loss = 0.35548481\n",
      "Iteration 87, loss = 0.35069281\n",
      "Iteration 88, loss = 0.34416282\n",
      "Iteration 89, loss = 0.33969778\n",
      "Iteration 90, loss = 0.33508992\n",
      "Iteration 91, loss = 0.32879520\n",
      "Iteration 92, loss = 0.32403239\n",
      "Iteration 93, loss = 0.31938545\n",
      "Iteration 94, loss = 0.31481754\n",
      "Iteration 95, loss = 0.31102156\n",
      "Iteration 96, loss = 0.30483576\n",
      "Iteration 97, loss = 0.30248911\n",
      "Iteration 98, loss = 0.29643764\n",
      "Iteration 99, loss = 0.29211777\n",
      "Iteration 100, loss = 0.28803304\n",
      "Iteration 101, loss = 0.28400067\n",
      "Iteration 102, loss = 0.27882278\n",
      "Iteration 103, loss = 0.27694401\n",
      "Iteration 104, loss = 0.27063376\n",
      "Iteration 105, loss = 0.26783182\n",
      "Iteration 106, loss = 0.26496195\n",
      "Iteration 107, loss = 0.25859784\n",
      "Iteration 108, loss = 0.25537052\n",
      "Iteration 109, loss = 0.25186808\n",
      "Iteration 110, loss = 0.24819025\n",
      "Iteration 111, loss = 0.24513662\n",
      "Iteration 112, loss = 0.24182379\n",
      "Iteration 113, loss = 0.23694447\n",
      "Iteration 114, loss = 0.23403028\n",
      "Iteration 115, loss = 0.23094039\n",
      "Iteration 116, loss = 0.22676601\n",
      "Iteration 117, loss = 0.22391830\n",
      "Iteration 118, loss = 0.22033310\n",
      "Iteration 119, loss = 0.21721064\n",
      "Iteration 120, loss = 0.21393783\n",
      "Iteration 121, loss = 0.21121998\n",
      "Iteration 122, loss = 0.20809371\n",
      "Iteration 123, loss = 0.20589258\n",
      "Iteration 124, loss = 0.20256207\n",
      "Iteration 125, loss = 0.20043506\n",
      "Iteration 126, loss = 0.19656769\n",
      "Iteration 127, loss = 0.19414571\n",
      "Iteration 128, loss = 0.19210399\n",
      "Iteration 129, loss = 0.19001163\n",
      "Iteration 130, loss = 0.18640992\n",
      "Iteration 131, loss = 0.18281952\n",
      "Iteration 132, loss = 0.18220082\n",
      "Iteration 133, loss = 0.17793652\n",
      "Iteration 134, loss = 0.17636048\n",
      "Iteration 135, loss = 0.17396624\n",
      "Iteration 136, loss = 0.17151054\n",
      "Iteration 137, loss = 0.16885459\n",
      "Iteration 138, loss = 0.16678018\n",
      "Iteration 139, loss = 0.16416835\n",
      "Iteration 140, loss = 0.16185039\n",
      "Iteration 141, loss = 0.16171690\n",
      "Iteration 142, loss = 0.15906410\n",
      "Iteration 143, loss = 0.15630211\n",
      "Iteration 144, loss = 0.15371547\n",
      "Iteration 145, loss = 0.15290580\n",
      "Iteration 146, loss = 0.15065004\n",
      "Iteration 147, loss = 0.14866187\n",
      "Iteration 148, loss = 0.14660505\n",
      "Iteration 149, loss = 0.14572575\n",
      "Iteration 150, loss = 0.14293226\n",
      "Iteration 151, loss = 0.14109128\n",
      "Iteration 152, loss = 0.13918480\n",
      "Iteration 153, loss = 0.13802196\n",
      "Iteration 154, loss = 0.13631931\n",
      "Iteration 155, loss = 0.13460271\n",
      "Iteration 156, loss = 0.13307128\n",
      "Iteration 157, loss = 0.13151778\n",
      "Iteration 158, loss = 0.13005826\n",
      "Iteration 159, loss = 0.12855258\n",
      "Iteration 160, loss = 0.12786437\n",
      "Iteration 161, loss = 0.12661067\n",
      "Iteration 162, loss = 0.12518465\n",
      "Iteration 163, loss = 0.12500273\n",
      "Iteration 164, loss = 0.12203385\n",
      "Iteration 165, loss = 0.12102256\n",
      "Iteration 166, loss = 0.12177442\n",
      "Iteration 167, loss = 0.11870189\n",
      "Iteration 168, loss = 0.11740672\n",
      "Iteration 169, loss = 0.11676134\n",
      "Iteration 170, loss = 0.11457019\n",
      "Iteration 171, loss = 0.11454103\n",
      "Iteration 172, loss = 0.11296219\n",
      "Iteration 173, loss = 0.11195956\n",
      "Iteration 174, loss = 0.11076026\n",
      "Iteration 175, loss = 0.10981087\n",
      "Iteration 176, loss = 0.10831211\n",
      "Iteration 177, loss = 0.10782602\n",
      "Iteration 178, loss = 0.10804881\n",
      "Iteration 179, loss = 0.10588541\n",
      "Iteration 180, loss = 0.10579083\n",
      "Iteration 181, loss = 0.10453210\n",
      "Iteration 182, loss = 0.10310739\n",
      "Iteration 183, loss = 0.10225572\n",
      "Iteration 184, loss = 0.10293808\n",
      "Iteration 185, loss = 0.10365239\n",
      "Iteration 186, loss = 0.10097874\n",
      "Iteration 187, loss = 0.10032786\n",
      "Iteration 188, loss = 0.09823447\n",
      "Iteration 189, loss = 0.09850517\n",
      "Iteration 190, loss = 0.09671882\n",
      "Iteration 191, loss = 0.09578620\n",
      "Iteration 192, loss = 0.09499482\n",
      "Iteration 193, loss = 0.09449721\n",
      "Iteration 194, loss = 0.09372601\n",
      "Iteration 195, loss = 0.09385093\n",
      "Iteration 196, loss = 0.09642854\n",
      "Iteration 197, loss = 0.09105815\n",
      "Iteration 198, loss = 0.09299151\n",
      "Iteration 199, loss = 0.09076720\n",
      "Iteration 200, loss = 0.09059269\n",
      "Iteration 201, loss = 0.09032357\n",
      "Iteration 202, loss = 0.08836152\n",
      "Iteration 203, loss = 0.08758777\n",
      "Iteration 204, loss = 0.08922642\n",
      "Iteration 205, loss = 0.09029445\n",
      "Iteration 206, loss = 0.08866942\n",
      "Iteration 207, loss = 0.08561792\n",
      "Iteration 208, loss = 0.08488744\n",
      "Iteration 209, loss = 0.08460215\n",
      "Iteration 210, loss = 0.08779946\n",
      "Iteration 211, loss = 0.08584875\n",
      "Iteration 212, loss = 0.08308315\n",
      "Iteration 213, loss = 0.08326489\n",
      "Iteration 214, loss = 0.08323062\n",
      "Iteration 215, loss = 0.08160846\n",
      "Iteration 216, loss = 0.08115299\n",
      "Iteration 217, loss = 0.08076625\n",
      "Iteration 218, loss = 0.08147051\n",
      "Iteration 219, loss = 0.08086278\n",
      "Iteration 220, loss = 0.07918543\n",
      "Iteration 221, loss = 0.07947617\n",
      "Iteration 222, loss = 0.07842819\n",
      "Iteration 223, loss = 0.07793594\n",
      "Iteration 224, loss = 0.07854893\n",
      "Iteration 225, loss = 0.07960219\n",
      "Iteration 226, loss = 0.07811576\n",
      "Iteration 227, loss = 0.07721153\n",
      "Iteration 228, loss = 0.07721620\n",
      "Iteration 229, loss = 0.07839352\n",
      "Iteration 230, loss = 0.07861352\n",
      "Iteration 231, loss = 0.07592710\n",
      "Iteration 232, loss = 0.07507860\n",
      "Iteration 233, loss = 0.07472891\n",
      "Iteration 234, loss = 0.07355228\n",
      "Iteration 235, loss = 0.07398779\n",
      "Iteration 236, loss = 0.07699689\n",
      "Iteration 237, loss = 0.07566627\n",
      "Iteration 238, loss = 0.07539481\n",
      "Iteration 239, loss = 0.07279571\n",
      "Iteration 240, loss = 0.07236054\n",
      "Iteration 241, loss = 0.07203761\n",
      "Iteration 242, loss = 0.07121529\n",
      "Iteration 243, loss = 0.07108636\n",
      "Iteration 244, loss = 0.07051114\n",
      "Iteration 245, loss = 0.07141727\n",
      "Iteration 246, loss = 0.07021354\n",
      "Iteration 247, loss = 0.06954313\n",
      "Iteration 248, loss = 0.07180067\n",
      "Iteration 249, loss = 0.07005010\n",
      "Iteration 250, loss = 0.06948357\n",
      "Iteration 251, loss = 0.06895386\n",
      "Iteration 252, loss = 0.07160625\n",
      "Iteration 253, loss = 0.06746862\n",
      "Iteration 254, loss = 0.06845672\n",
      "Iteration 255, loss = 0.06743321\n",
      "Iteration 256, loss = 0.06745948\n",
      "Iteration 257, loss = 0.06811387\n",
      "Iteration 258, loss = 0.06698805\n",
      "Iteration 259, loss = 0.06711847\n",
      "Iteration 260, loss = 0.06611592\n",
      "Iteration 261, loss = 0.06625545\n",
      "Iteration 262, loss = 0.06756315\n",
      "Iteration 263, loss = 0.06519746\n",
      "Iteration 264, loss = 0.06604575\n",
      "Iteration 265, loss = 0.06525596\n",
      "Iteration 266, loss = 0.06536296\n",
      "Iteration 267, loss = 0.06541514\n",
      "Iteration 268, loss = 0.06409080\n",
      "Iteration 269, loss = 0.06427537\n",
      "Iteration 270, loss = 0.06418876\n",
      "Iteration 271, loss = 0.06567056\n",
      "Iteration 272, loss = 0.06322545\n",
      "Iteration 273, loss = 0.06720197\n",
      "Iteration 274, loss = 0.06377210\n",
      "Iteration 275, loss = 0.06356637\n",
      "Iteration 276, loss = 0.06293753\n",
      "Iteration 277, loss = 0.06473516\n",
      "Iteration 278, loss = 0.06356266\n",
      "Iteration 279, loss = 0.06194564\n",
      "Iteration 280, loss = 0.06204948\n",
      "Iteration 281, loss = 0.06358844\n",
      "Iteration 282, loss = 0.06519152\n",
      "Iteration 283, loss = 0.06115269\n",
      "Iteration 284, loss = 0.06120350\n",
      "Iteration 285, loss = 0.06088009\n",
      "Iteration 286, loss = 0.06151642\n",
      "Iteration 287, loss = 0.06175534\n",
      "Iteration 288, loss = 0.06447917\n",
      "Iteration 289, loss = 0.06166131\n",
      "Iteration 290, loss = 0.06123998\n",
      "Iteration 291, loss = 0.06756050\n",
      "Iteration 292, loss = 0.05805465\n",
      "Iteration 293, loss = 0.05978364\n",
      "Iteration 294, loss = 0.06191102\n",
      "Iteration 295, loss = 0.05816599\n",
      "Iteration 296, loss = 0.06205671\n",
      "Iteration 297, loss = 0.06010265\n",
      "Iteration 298, loss = 0.05922210\n",
      "Iteration 299, loss = 0.06001485\n",
      "Iteration 300, loss = 0.05886108\n",
      "Iteration 301, loss = 0.05948324\n",
      "Iteration 302, loss = 0.05868737\n",
      "Iteration 303, loss = 0.05863487\n",
      "Training loss did not improve more than tol=0.000100 for 10 consecutive epochs. Stopping.\n"
     ]
    },
    {
     "data": {
      "text/html": [
       "<style>#sk-container-id-1 {color: black;background-color: white;}#sk-container-id-1 pre{padding: 0;}#sk-container-id-1 div.sk-toggleable {background-color: white;}#sk-container-id-1 label.sk-toggleable__label {cursor: pointer;display: block;width: 100%;margin-bottom: 0;padding: 0.3em;box-sizing: border-box;text-align: center;}#sk-container-id-1 label.sk-toggleable__label-arrow:before {content: \"▸\";float: left;margin-right: 0.25em;color: #696969;}#sk-container-id-1 label.sk-toggleable__label-arrow:hover:before {color: black;}#sk-container-id-1 div.sk-estimator:hover label.sk-toggleable__label-arrow:before {color: black;}#sk-container-id-1 div.sk-toggleable__content {max-height: 0;max-width: 0;overflow: hidden;text-align: left;background-color: #f0f8ff;}#sk-container-id-1 div.sk-toggleable__content pre {margin: 0.2em;color: black;border-radius: 0.25em;background-color: #f0f8ff;}#sk-container-id-1 input.sk-toggleable__control:checked~div.sk-toggleable__content {max-height: 200px;max-width: 100%;overflow: auto;}#sk-container-id-1 input.sk-toggleable__control:checked~label.sk-toggleable__label-arrow:before {content: \"▾\";}#sk-container-id-1 div.sk-estimator input.sk-toggleable__control:checked~label.sk-toggleable__label {background-color: #d4ebff;}#sk-container-id-1 div.sk-label input.sk-toggleable__control:checked~label.sk-toggleable__label {background-color: #d4ebff;}#sk-container-id-1 input.sk-hidden--visually {border: 0;clip: rect(1px 1px 1px 1px);clip: rect(1px, 1px, 1px, 1px);height: 1px;margin: -1px;overflow: hidden;padding: 0;position: absolute;width: 1px;}#sk-container-id-1 div.sk-estimator {font-family: monospace;background-color: #f0f8ff;border: 1px dotted black;border-radius: 0.25em;box-sizing: border-box;margin-bottom: 0.5em;}#sk-container-id-1 div.sk-estimator:hover {background-color: #d4ebff;}#sk-container-id-1 div.sk-parallel-item::after {content: \"\";width: 100%;border-bottom: 1px solid gray;flex-grow: 1;}#sk-container-id-1 div.sk-label:hover label.sk-toggleable__label {background-color: #d4ebff;}#sk-container-id-1 div.sk-serial::before {content: \"\";position: absolute;border-left: 1px solid gray;box-sizing: border-box;top: 0;bottom: 0;left: 50%;z-index: 0;}#sk-container-id-1 div.sk-serial {display: flex;flex-direction: column;align-items: center;background-color: white;padding-right: 0.2em;padding-left: 0.2em;position: relative;}#sk-container-id-1 div.sk-item {position: relative;z-index: 1;}#sk-container-id-1 div.sk-parallel {display: flex;align-items: stretch;justify-content: center;background-color: white;position: relative;}#sk-container-id-1 div.sk-item::before, #sk-container-id-1 div.sk-parallel-item::before {content: \"\";position: absolute;border-left: 1px solid gray;box-sizing: border-box;top: 0;bottom: 0;left: 50%;z-index: -1;}#sk-container-id-1 div.sk-parallel-item {display: flex;flex-direction: column;z-index: 1;position: relative;background-color: white;}#sk-container-id-1 div.sk-parallel-item:first-child::after {align-self: flex-end;width: 50%;}#sk-container-id-1 div.sk-parallel-item:last-child::after {align-self: flex-start;width: 50%;}#sk-container-id-1 div.sk-parallel-item:only-child::after {width: 0;}#sk-container-id-1 div.sk-dashed-wrapped {border: 1px dashed gray;margin: 0 0.4em 0.5em 0.4em;box-sizing: border-box;padding-bottom: 0.4em;background-color: white;}#sk-container-id-1 div.sk-label label {font-family: monospace;font-weight: bold;display: inline-block;line-height: 1.2em;}#sk-container-id-1 div.sk-label-container {text-align: center;}#sk-container-id-1 div.sk-container {/* jupyter's `normalize.less` sets `[hidden] { display: none; }` but bootstrap.min.css set `[hidden] { display: none !important; }` so we also need the `!important` here to be able to override the default hidden behavior on the sphinx rendered scikit-learn.org. See: https://github.com/scikit-learn/scikit-learn/issues/21755 */display: inline-block !important;position: relative;}#sk-container-id-1 div.sk-text-repr-fallback {display: none;}</style><div id=\"sk-container-id-1\" class=\"sk-top-container\"><div class=\"sk-text-repr-fallback\"><pre>MLPClassifier(batch_size=10, hidden_layer_sizes=(5, 3), max_iter=350,\n",
       "              verbose=True)</pre><b>In a Jupyter environment, please rerun this cell to show the HTML representation or trust the notebook. <br />On GitHub, the HTML representation is unable to render, please try loading this page with nbviewer.org.</b></div><div class=\"sk-container\" hidden><div class=\"sk-item\"><div class=\"sk-estimator sk-toggleable\"><input class=\"sk-toggleable__control sk-hidden--visually\" id=\"sk-estimator-id-1\" type=\"checkbox\" checked><label for=\"sk-estimator-id-1\" class=\"sk-toggleable__label sk-toggleable__label-arrow\">MLPClassifier</label><div class=\"sk-toggleable__content\"><pre>MLPClassifier(batch_size=10, hidden_layer_sizes=(5, 3), max_iter=350,\n",
       "              verbose=True)</pre></div></div></div></div></div>"
      ],
      "text/plain": [
       "MLPClassifier(batch_size=10, hidden_layer_sizes=(5, 3), max_iter=350,\n",
       "              verbose=True)"
      ]
     },
     "execution_count": 9,
     "metadata": {},
     "output_type": "execute_result"
    }
   ],
   "source": [
    "# Das neuronale Netz wird mit den Trainingsdaten traniert\n",
    "mlp.fit(X_train, y_train)"
   ]
  },
  {
   "cell_type": "code",
   "execution_count": 10,
   "metadata": {},
   "outputs": [
    {
     "name": "stdout",
     "output_type": "stream",
     "text": [
      "Trainingsergebnis: 0.975\n"
     ]
    }
   ],
   "source": [
    "# Das Ergebnis des Training wird ausgegeben\n",
    "print(\"Trainingsergebnis: %5.3f\" % mlp.score(X_train, y_train))"
   ]
  },
  {
   "cell_type": "code",
   "execution_count": 11,
   "metadata": {},
   "outputs": [
    {
     "name": "stdout",
     "output_type": "stream",
     "text": [
      "[[ 7  0  0]\n",
      " [ 0 11  0]\n",
      " [ 0  1 11]]\n"
     ]
    }
   ],
   "source": [
    "# Das Modell wird mit den Testdatensdaten evaluiert\n",
    "predictions = mlp.predict(X_test)\n",
    "# und die Konfusionsmatrix ausgegeben\n",
    "print(confusion_matrix(y_test,predictions))  "
   ]
  },
  {
   "cell_type": "code",
   "execution_count": 12,
   "metadata": {},
   "outputs": [
    {
     "name": "stdout",
     "output_type": "stream",
     "text": [
      "              precision    recall  f1-score   support\n",
      "\n",
      "         0.0       1.00      1.00      1.00         7\n",
      "         1.0       0.92      1.00      0.96        11\n",
      "         2.0       1.00      0.92      0.96        12\n",
      "\n",
      "    accuracy                           0.97        30\n",
      "   macro avg       0.97      0.97      0.97        30\n",
      "weighted avg       0.97      0.97      0.97        30\n",
      "\n"
     ]
    }
   ],
   "source": [
    "# Aus der Konfusionsmatrix werden precison, recall und f1-score berechnet und ausgebenen\n",
    "print(classification_report(y_test,predictions)) "
   ]
  },
  {
   "cell_type": "code",
   "execution_count": 13,
   "metadata": {},
   "outputs": [
    {
     "name": "stdout",
     "output_type": "stream",
     "text": [
      "Testergebnis: 0.967\n"
     ]
    }
   ],
   "source": [
    "# Das Modell wird getest und das Ergebnis ausgegeben\n",
    "print(\"Testergebnis: %5.3f\" % mlp.score(X_test,y_test))"
   ]
  },
  {
   "cell_type": "code",
   "execution_count": 14,
   "metadata": {},
   "outputs": [
    {
     "name": "stdout",
     "output_type": "stream",
     "text": [
      "WEIGHTS: [array([[ 1.91491544e-01,  5.62592429e-01, -2.36299528e-16,\n",
      "        -1.00435352e-01,  2.71226726e-01],\n",
      "       [-2.47177841e-01,  2.44837672e-01,  5.70733664e-77,\n",
      "         6.31257398e-01,  6.70787725e-01],\n",
      "       [ 8.92743254e-01, -6.14905780e-01, -1.77043436e-10,\n",
      "        -2.02422889e-01, -5.46401806e-01],\n",
      "       [ 1.00542542e-01, -7.83295160e-01,  1.04750875e-16,\n",
      "         1.34472025e+00, -6.99695876e-01]]), array([[-3.24592925e-09,  1.21116175e+00,  3.47791406e-01],\n",
      "       [ 1.03266066e-82, -3.43326910e-01,  5.88720663e-01],\n",
      "       [ 3.53990178e-42, -2.47474292e-70,  9.61105385e-10],\n",
      "       [-1.35412489e-62, -1.22192363e-02, -1.07763998e+00],\n",
      "       [-2.16892387e-81, -9.74042850e-01,  2.94618243e+00]]), array([[ 1.11076804e-18, -1.45122848e-13, -4.46453373e-50],\n",
      "       [-2.22298032e+00, -1.88245774e-01,  5.59829240e-01],\n",
      "       [ 1.00115368e+00,  6.50006289e-01, -1.12590400e+00]])]\n",
      "BIASES: [array([ 0.82950644,  0.75596277, -0.66797373, -0.89643598,  0.9292694 ]), array([-0.31573205,  1.07224074,  0.62830224]), array([ 1.15035736, -0.52355475, -0.03842992])]\n"
     ]
    }
   ],
   "source": [
    "# Folgendes gibt die Werte der Gewichte pro Layer aus\n",
    "print(\"WEIGHTS:\", mlp.coefs_)\n",
    "print(\"BIASES:\", mlp.intercepts_) "
   ]
  },
  {
   "cell_type": "code",
   "execution_count": 15,
   "metadata": {},
   "outputs": [
    {
     "name": "stdout",
     "output_type": "stream",
     "text": [
      "[0. 2. 0. 1.]\n"
     ]
    }
   ],
   "source": [
    "# Das Modell wird beispielsweise zur Vorhersage auf folgenden Werten \n",
    "# aus dem Testset angewandt mit den Merkmalen [sepal-length, sepal-width, \n",
    "# petal-length, petal-width]\n",
    "print(mlp.predict([[5.1,3.5,1.4,0.2], [5.9,3.,5.1,1.8], [4.9,3.,1.4,0.2], [5.8,2.7,4.1,1.]]))"
   ]
  },
  {
   "cell_type": "code",
   "execution_count": 16,
   "metadata": {},
   "outputs": [
    {
     "data": {
      "image/png": "[encoded data removed]",
      "text/plain": [
       "<Figure size 640x480 with 1 Axes>"
      ]
     },
     "metadata": {},
     "output_type": "display_data"
    }
   ],
   "source": [
    "# Die Loss-Kurve wird visualisiert und in der Datei Plot_of_loss_values.png im PNG-Format gespeichert.\n",
    "loss_values = mlp.loss_curve_\n",
    "plt.plot(loss_values)\n",
    "# Check, if there is already a file with the same name\n",
    "# If yes, add a number to the filename\n",
    "i = 0\n",
    "while os.path.isfile(\"./output/plot_of_loss_values.png\"):\n",
    "    i += 1\n",
    "    plt.savefig(\"./output/plot_of_loss_values\" + str(i) + \".png\")\n",
    "plt.show()"
   ]
  }
 ],
 "metadata": {
  "jupytext": {
   "cell_metadata_filter": "-all",
   "main_language": "python",
   "notebook_metadata_filter": "-all"
  },
  "kernelspec": {
   "display_name": "Python 3",
   "language": "python",
   "name": "python3"
  },
  "language_info": {
   "codemirror_mode": {
    "name": "ipython",
    "version": 3
   },
   "file_extension": ".py",
   "mimetype": "text/x-python",
   "name": "python",
   "nbconvert_exporter": "python",
   "pygments_lexer": "ipython3",
   "version": "3.10.6"
  }
 },
 "nbformat": 4,
 "nbformat_minor": 2
}
