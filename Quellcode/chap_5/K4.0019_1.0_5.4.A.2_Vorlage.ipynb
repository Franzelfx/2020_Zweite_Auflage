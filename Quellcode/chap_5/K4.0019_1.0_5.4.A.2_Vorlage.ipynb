{
 "cells": [
  {
   "attachments": {},
   "cell_type": "markdown",
   "metadata": {},
   "source": [
    "\n",
    "## Benutzung von Tensoren mit TensorFlow 2.x\n",
    "\n",
    "In dem Folgenden Beispiel werden die Grundlagen der Benutzung von Tensoren und deren unterschiedlichen Eigenschaften mit TensorFlow 2.x erläutert.\n",
    "\n",
    "<img src=\"img/tensoren.png\" height=\"400\"/>"
   ]
  },
  {
   "cell_type": "code",
   "execution_count": null,
   "metadata": {},
   "outputs": [],
   "source": [
    "#\n",
    "# Führe diese Zelle aus, um die benötigten Pakete zu installieren.\n",
    "# Falls du die Pakete bereits installiert hast, kannst du diese Zelle überspringen.\n",
    "#\n",
    "%pip install numpy\n",
    "%pip install tensorflow"
   ]
  },
  {
   "cell_type": "code",
   "execution_count": null,
   "metadata": {
    "lines_to_next_cell": 2
   },
   "outputs": [],
   "source": [
    "import random\n",
    "import numpy as np\n",
    "import tensorflow as tf"
   ]
  },
  {
   "cell_type": "code",
   "execution_count": null,
   "metadata": {},
   "outputs": [],
   "source": [
    "# Generate random hash\n",
    "hash = random.getrandbits(16)\n",
    "print(\"Hash: \", hash)"
   ]
  },
  {
   "cell_type": "code",
   "execution_count": null,
   "metadata": {},
   "outputs": [],
   "source": [
    "my_scalar = tf.constant(1,name=\"mein_Skalar\")\n",
    "print(my_scalar) \n",
    "tf.print(my_scalar)"
   ]
  },
  {
   "cell_type": "code",
   "execution_count": null,
   "metadata": {},
   "outputs": [],
   "source": [
    "my_scalar = tf.Variable(1)"
   ]
  },
  {
   "cell_type": "code",
   "execution_count": null,
   "metadata": {},
   "outputs": [],
   "source": [
    "#Ausgabe: Tensor(\"Const_2:0\", shape=(1, 1), dtype=int32)\n",
    "tensor_0d = tf.constant(3)\n",
    "print(tensor_0d)"
   ]
  },
  {
   "cell_type": "code",
   "execution_count": null,
   "metadata": {},
   "outputs": [],
   "source": [
    "tensor_1d = tf.constant([1,2,3,4])\n",
    "print(tensor_1d)"
   ]
  },
  {
   "cell_type": "code",
   "execution_count": null,
   "metadata": {},
   "outputs": [],
   "source": [
    "tensor_1d_with_strings = tf.constant([\"Hallo\",\"Welt\",\"dies\",\"ist\",\"ein 1D Tensor!\"])\n",
    "print(tensor_1d_with_strings)"
   ]
  },
  {
   "cell_type": "code",
   "execution_count": null,
   "metadata": {},
   "outputs": [],
   "source": [
    "tensor_2d_with_strings = tf.constant([[\"Petra\",\"Schmitt\"],[\"Max\",\"Mustermann\"],[\"John\",\"Doe\"]])\n",
    "print(tensor_2d_with_strings)\n",
    "tf.print(tensor_2d_with_strings)"
   ]
  },
  {
   "cell_type": "code",
   "execution_count": null,
   "metadata": {},
   "outputs": [],
   "source": [
    "tensor_2d_with_integer = tf.constant([[1,2],[3,4],[5,6]])\n",
    "print(tensor_2d_with_integer)"
   ]
  },
  {
   "cell_type": "code",
   "execution_count": null,
   "metadata": {},
   "outputs": [],
   "source": [
    "tensor_3d = tf.constant([\n",
    "                            [[1,4],[3,8]],\n",
    "                            [[5,7],[9,3]]\n",
    "                        ])\n",
    "tf.print(tf.rank(tensor_3d))"
   ]
  },
  {
   "attachments": {},
   "cell_type": "markdown",
   "metadata": {},
   "source": [
    "Beispiel numpy zu Tensor"
   ]
  },
  {
   "cell_type": "code",
   "execution_count": null,
   "metadata": {},
   "outputs": [],
   "source": [
    "np_array = np.arange(0,5,step=0.5)\n",
    "print(\"Eine Numpy-Struktur\")\n",
    "tensor_from_numpy = tf.constant(np_array,name=\"converted\",dtype=tf.float16)\n",
    "print(\"... kann als Tensor umgewandelt werden:\")\n",
    "print(tensor_from_numpy)\n",
    "# Ausgabe: \n",
    "print(\"... und wieder als Numpy-Struktur zurück:\")\n",
    "print(tensor_from_numpy.numpy())\n",
    "# Ausgabe\n",
    "# [0.  0.5 1.  1.5 2.  2.5 3.  3.5 4.  4.5]"
   ]
  }
 ],
 "metadata": {
  "jupytext": {
   "cell_metadata_filter": "-all",
   "main_language": "python",
   "notebook_metadata_filter": "-all"
  },
  "kernelspec": {
   "display_name": "venv",
   "language": "python",
   "name": "python3"
  },
  "language_info": {
   "codemirror_mode": {
    "name": "ipython",
    "version": 3
   },
   "file_extension": ".py",
   "mimetype": "text/x-python",
   "name": "python",
   "nbconvert_exporter": "python",
   "pygments_lexer": "ipython3",
   "version": "3.10.12"
  }
 },
 "nbformat": 4,
 "nbformat_minor": 2
}
