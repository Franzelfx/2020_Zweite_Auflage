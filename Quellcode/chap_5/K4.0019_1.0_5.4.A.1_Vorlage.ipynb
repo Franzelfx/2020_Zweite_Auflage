{
 "cells": [
  {
   "attachments": {},
   "cell_type": "markdown",
   "metadata": {},
   "source": [
    "## RGB- Bild mit Tensorflow\n"
   ]
  },
  {
   "cell_type": "code",
   "execution_count": 18,
   "metadata": {},
   "outputs": [
    {
     "name": "stdout",
     "output_type": "stream",
     "text": [
      "Requirement already satisfied: numpy in /Users/FabianFranz/Development/Projects/velpTec/Tensorflow/venv/lib/python3.10/site-packages (1.23.5)\n",
      "Note: you may need to restart the kernel to use updated packages.\n",
      "Requirement already satisfied: tensorflow in /Users/FabianFranz/Development/Projects/velpTec/Tensorflow/venv/lib/python3.10/site-packages (2.12.0)\n",
      "Requirement already satisfied: absl-py>=1.0.0 in /Users/FabianFranz/Development/Projects/velpTec/Tensorflow/venv/lib/python3.10/site-packages (from tensorflow) (1.4.0)\n",
      "Requirement already satisfied: astunparse>=1.6.0 in /Users/FabianFranz/Development/Projects/velpTec/Tensorflow/venv/lib/python3.10/site-packages (from tensorflow) (1.6.3)\n",
      "Requirement already satisfied: flatbuffers>=2.0 in /Users/FabianFranz/Development/Projects/velpTec/Tensorflow/venv/lib/python3.10/site-packages (from tensorflow) (23.5.26)\n",
      "Requirement already satisfied: gast<=0.4.0,>=0.2.1 in /Users/FabianFranz/Development/Projects/velpTec/Tensorflow/venv/lib/python3.10/site-packages (from tensorflow) (0.4.0)\n",
      "Requirement already satisfied: google-pasta>=0.1.1 in /Users/FabianFranz/Development/Projects/velpTec/Tensorflow/venv/lib/python3.10/site-packages (from tensorflow) (0.2.0)\n",
      "Requirement already satisfied: h5py>=2.9.0 in /Users/FabianFranz/Development/Projects/velpTec/Tensorflow/venv/lib/python3.10/site-packages (from tensorflow) (3.9.0)\n",
      "Requirement already satisfied: jax>=0.3.15 in /Users/FabianFranz/Development/Projects/velpTec/Tensorflow/venv/lib/python3.10/site-packages (from tensorflow) (0.4.13)\n",
      "Requirement already satisfied: libclang>=13.0.0 in /Users/FabianFranz/Development/Projects/velpTec/Tensorflow/venv/lib/python3.10/site-packages (from tensorflow) (16.0.0)\n",
      "Requirement already satisfied: numpy<1.24,>=1.22 in /Users/FabianFranz/Development/Projects/velpTec/Tensorflow/venv/lib/python3.10/site-packages (from tensorflow) (1.23.5)\n",
      "Requirement already satisfied: opt-einsum>=2.3.2 in /Users/FabianFranz/Development/Projects/velpTec/Tensorflow/venv/lib/python3.10/site-packages (from tensorflow) (3.3.0)\n",
      "Requirement already satisfied: packaging in /Users/FabianFranz/Development/Projects/velpTec/Tensorflow/venv/lib/python3.10/site-packages (from tensorflow) (23.1)\n",
      "Requirement already satisfied: protobuf!=4.21.0,!=4.21.1,!=4.21.2,!=4.21.3,!=4.21.4,!=4.21.5,<5.0.0dev,>=3.20.3 in /Users/FabianFranz/Development/Projects/velpTec/Tensorflow/venv/lib/python3.10/site-packages (from tensorflow) (4.23.3)\n",
      "Requirement already satisfied: setuptools in /Users/FabianFranz/Development/Projects/velpTec/Tensorflow/venv/lib/python3.10/site-packages (from tensorflow) (67.8.0)\n",
      "Requirement already satisfied: six>=1.12.0 in /Users/FabianFranz/Development/Projects/velpTec/Tensorflow/venv/lib/python3.10/site-packages (from tensorflow) (1.16.0)\n",
      "Requirement already satisfied: termcolor>=1.1.0 in /Users/FabianFranz/Development/Projects/velpTec/Tensorflow/venv/lib/python3.10/site-packages (from tensorflow) (2.3.0)\n",
      "Requirement already satisfied: typing-extensions>=3.6.6 in /Users/FabianFranz/Development/Projects/velpTec/Tensorflow/venv/lib/python3.10/site-packages (from tensorflow) (4.7.1)\n",
      "Requirement already satisfied: wrapt<1.15,>=1.11.0 in /Users/FabianFranz/Development/Projects/velpTec/Tensorflow/venv/lib/python3.10/site-packages (from tensorflow) (1.14.1)\n",
      "Requirement already satisfied: grpcio<2.0,>=1.24.3 in /Users/FabianFranz/Development/Projects/velpTec/Tensorflow/venv/lib/python3.10/site-packages (from tensorflow) (1.56.0)\n",
      "Requirement already satisfied: tensorboard<2.13,>=2.12 in /Users/FabianFranz/Development/Projects/velpTec/Tensorflow/venv/lib/python3.10/site-packages (from tensorflow) (2.12.3)\n",
      "Requirement already satisfied: tensorflow-estimator<2.13,>=2.12.0 in /Users/FabianFranz/Development/Projects/velpTec/Tensorflow/venv/lib/python3.10/site-packages (from tensorflow) (2.12.0)\n",
      "Requirement already satisfied: keras<2.13,>=2.12.0 in /Users/FabianFranz/Development/Projects/velpTec/Tensorflow/venv/lib/python3.10/site-packages (from tensorflow) (2.12.0)\n",
      "Requirement already satisfied: tensorflow-io-gcs-filesystem>=0.23.1 in /Users/FabianFranz/Development/Projects/velpTec/Tensorflow/venv/lib/python3.10/site-packages (from tensorflow) (0.32.0)\n",
      "Requirement already satisfied: wheel<1.0,>=0.23.0 in /Users/FabianFranz/Development/Projects/velpTec/Tensorflow/venv/lib/python3.10/site-packages (from astunparse>=1.6.0->tensorflow) (0.40.0)\n",
      "Requirement already satisfied: ml-dtypes>=0.1.0 in /Users/FabianFranz/Development/Projects/velpTec/Tensorflow/venv/lib/python3.10/site-packages (from jax>=0.3.15->tensorflow) (0.2.0)\n",
      "Requirement already satisfied: scipy>=1.7 in /Users/FabianFranz/Development/Projects/velpTec/Tensorflow/venv/lib/python3.10/site-packages (from jax>=0.3.15->tensorflow) (1.11.1)\n",
      "Requirement already satisfied: google-auth<3,>=1.6.3 in /Users/FabianFranz/Development/Projects/velpTec/Tensorflow/venv/lib/python3.10/site-packages (from tensorboard<2.13,>=2.12->tensorflow) (2.21.0)\n",
      "Requirement already satisfied: google-auth-oauthlib<1.1,>=0.5 in /Users/FabianFranz/Development/Projects/velpTec/Tensorflow/venv/lib/python3.10/site-packages (from tensorboard<2.13,>=2.12->tensorflow) (1.0.0)\n",
      "Requirement already satisfied: markdown>=2.6.8 in /Users/FabianFranz/Development/Projects/velpTec/Tensorflow/venv/lib/python3.10/site-packages (from tensorboard<2.13,>=2.12->tensorflow) (3.4.3)\n",
      "Requirement already satisfied: requests<3,>=2.21.0 in /Users/FabianFranz/Development/Projects/velpTec/Tensorflow/venv/lib/python3.10/site-packages (from tensorboard<2.13,>=2.12->tensorflow) (2.31.0)\n",
      "Requirement already satisfied: tensorboard-data-server<0.8.0,>=0.7.0 in /Users/FabianFranz/Development/Projects/velpTec/Tensorflow/venv/lib/python3.10/site-packages (from tensorboard<2.13,>=2.12->tensorflow) (0.7.1)\n",
      "Requirement already satisfied: werkzeug>=1.0.1 in /Users/FabianFranz/Development/Projects/velpTec/Tensorflow/venv/lib/python3.10/site-packages (from tensorboard<2.13,>=2.12->tensorflow) (2.3.6)\n",
      "Requirement already satisfied: cachetools<6.0,>=2.0.0 in /Users/FabianFranz/Development/Projects/velpTec/Tensorflow/venv/lib/python3.10/site-packages (from google-auth<3,>=1.6.3->tensorboard<2.13,>=2.12->tensorflow) (5.3.1)\n",
      "Requirement already satisfied: pyasn1-modules>=0.2.1 in /Users/FabianFranz/Development/Projects/velpTec/Tensorflow/venv/lib/python3.10/site-packages (from google-auth<3,>=1.6.3->tensorboard<2.13,>=2.12->tensorflow) (0.3.0)\n",
      "Requirement already satisfied: rsa<5,>=3.1.4 in /Users/FabianFranz/Development/Projects/velpTec/Tensorflow/venv/lib/python3.10/site-packages (from google-auth<3,>=1.6.3->tensorboard<2.13,>=2.12->tensorflow) (4.9)\n",
      "Requirement already satisfied: urllib3<2.0 in /Users/FabianFranz/Development/Projects/velpTec/Tensorflow/venv/lib/python3.10/site-packages (from google-auth<3,>=1.6.3->tensorboard<2.13,>=2.12->tensorflow) (1.26.16)\n",
      "Requirement already satisfied: requests-oauthlib>=0.7.0 in /Users/FabianFranz/Development/Projects/velpTec/Tensorflow/venv/lib/python3.10/site-packages (from google-auth-oauthlib<1.1,>=0.5->tensorboard<2.13,>=2.12->tensorflow) (1.3.1)\n",
      "Requirement already satisfied: charset-normalizer<4,>=2 in /Users/FabianFranz/Development/Projects/velpTec/Tensorflow/venv/lib/python3.10/site-packages (from requests<3,>=2.21.0->tensorboard<2.13,>=2.12->tensorflow) (3.1.0)\n",
      "Requirement already satisfied: idna<4,>=2.5 in /Users/FabianFranz/Development/Projects/velpTec/Tensorflow/venv/lib/python3.10/site-packages (from requests<3,>=2.21.0->tensorboard<2.13,>=2.12->tensorflow) (3.4)\n",
      "Requirement already satisfied: certifi>=2017.4.17 in /Users/FabianFranz/Development/Projects/velpTec/Tensorflow/venv/lib/python3.10/site-packages (from requests<3,>=2.21.0->tensorboard<2.13,>=2.12->tensorflow) (2023.5.7)\n",
      "Requirement already satisfied: MarkupSafe>=2.1.1 in /Users/FabianFranz/Development/Projects/velpTec/Tensorflow/venv/lib/python3.10/site-packages (from werkzeug>=1.0.1->tensorboard<2.13,>=2.12->tensorflow) (2.1.3)\n",
      "Requirement already satisfied: pyasn1<0.6.0,>=0.4.6 in /Users/FabianFranz/Development/Projects/velpTec/Tensorflow/venv/lib/python3.10/site-packages (from pyasn1-modules>=0.2.1->google-auth<3,>=1.6.3->tensorboard<2.13,>=2.12->tensorflow) (0.5.0)\n",
      "Requirement already satisfied: oauthlib>=3.0.0 in /Users/FabianFranz/Development/Projects/velpTec/Tensorflow/venv/lib/python3.10/site-packages (from requests-oauthlib>=0.7.0->google-auth-oauthlib<1.1,>=0.5->tensorboard<2.13,>=2.12->tensorflow) (3.2.2)\n",
      "Note: you may need to restart the kernel to use updated packages.\n"
     ]
    }
   ],
   "source": [
    "#\n",
    "# Führe diese Zelle aus, um die benötigten Pakete zu installieren.\n",
    "# Falls du die Pakete bereits installiert hast, kannst du diese Zelle überspringen.\n",
    "#\n",
    "%pip install numpy\n",
    "%pip install tensorflow"
   ]
  },
  {
   "cell_type": "code",
   "execution_count": 19,
   "metadata": {
    "lines_to_next_cell": 2
   },
   "outputs": [],
   "source": [
    "import random\n",
    "import numpy as np\n",
    "from PIL import Image\n",
    "import tensorflow as tf"
   ]
  },
  {
   "cell_type": "code",
   "execution_count": 20,
   "metadata": {},
   "outputs": [
    {
     "name": "stdout",
     "output_type": "stream",
     "text": [
      "Hash:  47408\n"
     ]
    }
   ],
   "source": [
    "# Generate random hash\n",
    "hash = random.getrandbits(16)\n",
    "print(\"Hash: \", hash)"
   ]
  },
  {
   "cell_type": "code",
   "execution_count": 21,
   "metadata": {
    "lines_to_next_cell": 2
   },
   "outputs": [
    {
     "name": "stdout",
     "output_type": "stream",
     "text": [
      "== Alternative 1==\n",
      "[[[183 205 219]\n",
      "  [184 206 220]\n",
      "  [186 208 222]\n",
      "  ...\n",
      "  [221 224 229]\n",
      "  [221 224 229]\n",
      "  [221 224 229]]\n",
      "\n",
      " [[183 205 219]\n",
      "  [184 206 220]\n",
      "  [186 208 222]\n",
      "  ...\n",
      "  [220 223 228]\n",
      "  [220 223 228]\n",
      "  [220 223 228]]\n",
      "\n",
      " [[183 205 219]\n",
      "  [184 206 220]\n",
      "  [185 207 221]\n",
      "  ...\n",
      "  [221 224 229]\n",
      "  [221 224 229]\n",
      "  [221 224 229]]\n",
      "\n",
      " ...\n",
      "\n",
      " [[210 208 213]\n",
      "  [210 208 213]\n",
      "  [210 208 213]\n",
      "  ...\n",
      "  [208 206 207]\n",
      "  [208 206 207]\n",
      "  [208 206 207]]\n",
      "\n",
      " [[210 208 213]\n",
      "  [210 208 213]\n",
      "  [210 208 213]\n",
      "  ...\n",
      "  [208 206 207]\n",
      "  [208 206 207]\n",
      "  [208 206 207]]\n",
      "\n",
      " [[210 208 213]\n",
      "  [210 208 213]\n",
      "  [210 208 213]\n",
      "  ...\n",
      "  [208 206 207]\n",
      "  [208 206 207]\n",
      "  [208 206 207]]]\n",
      "Rank des Tensors: 3\n"
     ]
    }
   ],
   "source": [
    "# Alternative 1: Mit Pillow\n",
    "print (\"== Alternative 1==\")\n",
    "img = Image.open(\"./input/cat.jpg\" )\n",
    "img.load()\n",
    "img_data = np.asarray( img, dtype=\"int32\" )\n",
    "img_tensor = tf.convert_to_tensor(img_data, dtype=tf.int32)\n",
    "tf.print(img_tensor)\n",
    "print(\"Rank des Tensors: {}\".format(tf.rank(img_tensor)))"
   ]
  },
  {
   "cell_type": "code",
   "execution_count": 22,
   "metadata": {},
   "outputs": [
    {
     "name": "stdout",
     "output_type": "stream",
     "text": [
      "== Alternative 2 == \n",
      "Rank des Tensors: 3\n",
      "Shape des Bildes: [1163 2067    3]\n",
      "RGB-Werte vom Pixel (x:0,y:0) : tf.Tensor([183 205 219], shape=(3,), dtype=uint8)\n"
     ]
    }
   ],
   "source": [
    "# Alternative 2: Mit tf.image.decode_jpeg()\n",
    "print (\"== Alternative 2 == \")\n",
    "img = tf.image.decode_jpeg(tf.io.read_file(\"./input/cat.jpg\"))\n",
    "print(\"Rank des Tensors: {}\".format(tf.rank(img)))\n",
    "print(\"Shape des Bildes: {}\".format(tf.shape(img)))\n",
    "print(\"RGB-Werte vom Pixel (x:0,y:0) :\",img[0][0])"
   ]
  },
  {
   "cell_type": "code",
   "execution_count": 23,
   "metadata": {},
   "outputs": [
    {
     "name": "stdout",
     "output_type": "stream",
     "text": [
      "== Alternative 3 == \n",
      "Rank des Tensors: 3\n",
      "Shape des Bildes: [1163 2067    3]\n",
      "RGB-Werte vom Pixel (x:0,y:0) : tf.Tensor([183 205 219], shape=(3,), dtype=uint8)\n"
     ]
    }
   ],
   "source": [
    "# Alternative 3: Mit tf.image.decode_image ohne Angaben von Bildformat()\n",
    "print (\"== Alternative 3 == \")\n",
    "img = tf.image.decode_image(tf.io.read_file(\"./input/cat.jpg\"))\n",
    "print(\"Rank des Tensors: {}\".format(tf.rank(img)))\n",
    "print(\"Shape des Bildes: {}\".format(tf.shape(img)))\n",
    "print(\"RGB-Werte vom Pixel (x:0,y:0) :\",img[0][0])"
   ]
  }
 ],
 "metadata": {
  "jupytext": {
   "cell_metadata_filter": "-all",
   "main_language": "python",
   "notebook_metadata_filter": "-all"
  },
  "kernelspec": {
   "display_name": "Python 3",
   "language": "python",
   "name": "python3"
  },
  "language_info": {
   "codemirror_mode": {
    "name": "ipython",
    "version": 3
   },
   "file_extension": ".py",
   "mimetype": "text/x-python",
   "name": "python",
   "nbconvert_exporter": "python",
   "pygments_lexer": "ipython3",
   "version": "3.10.12"
  }
 },
 "nbformat": 4,
 "nbformat_minor": 2
}
